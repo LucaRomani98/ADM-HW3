{
 "cells": [
  {
   "cell_type": "code",
   "execution_count": 95,
   "id": "e6fa9f5a-a918-4ac1-a666-d232244461c7",
   "metadata": {},
   "outputs": [],
   "source": [
    "def AlgorithmicQuestion(Input):\n",
    "    #initzialization of variables\n",
    "    Inclusive = 0 #this will keep track of the sum INCLUDING the element of the given Index\n",
    "    Exclusive = 0 #this will keep track of the sum EXCLUDING the element of the given Index\n",
    "    Difference = [] #the array of the difference between Inclsive and Exclusive; this quantity is key in finding the elements that maximize the sum of non adjacent elements\n",
    "    Path = [] #the array of non adjacent elements that maximize the sum \n",
    "    \n",
    "    #computation to maximizes the total length of the accepted appointments\n",
    "    for Index in Input:\n",
    "        Temp = Inclusive #dummy variable\n",
    "        Inclusive = max(Inclusive, Exclusive + Index) #the sum of the elements that maximize the sum; only the maximun value is recorded to be compared in the next iteration\n",
    "        Exclusive = Temp #aka the previous maximun value\n",
    "        Difference.append(Inclusive - Exclusive)\n",
    "    \n",
    "    #computation of the accepted appointments\n",
    "    for Index in reversed(range(len(Input))): #we analyze the vector from the end because only at the end we know which appointments were selected\n",
    "        if Difference[Index] > 0:\n",
    "            Path.append(Input[Index])\n",
    "            Difference[Index - 1] = 0 #this is necessary to not consider the adjacent element\n",
    "    Path.reverse()\n",
    "    \n",
    "    #output\n",
    "    print(f\"The Appointments are: {Input}\\n\\\n",
    "The personal trainer needs to chose the appointments: {Path}\\n\\\n",
    "This will result in a total amount of time of: {max(Inclusive, Exclusive)}\")"
   ]
  },
  {
   "cell_type": "code",
   "execution_count": 96,
   "id": "bf914d37-5c44-438e-ac00-2cdfe9105829",
   "metadata": {},
   "outputs": [
    {
     "name": "stdout",
     "output_type": "stream",
     "text": [
      "The Appointments are: [36, 29, 5, 13, 38]\n",
      "The personal trainer needs to chose the appointments: [36, 5, 38]\n",
      "This will result in a total amount of time of: 79\n"
     ]
    }
   ],
   "source": [
    "from random import randint\n",
    "AlgorithmicQuestion([randint(0,50) for i in range(5)])"
   ]
  }
 ],
 "metadata": {
  "kernelspec": {
   "display_name": "Python 3 (ipykernel)",
   "language": "python",
   "name": "python3"
  },
  "language_info": {
   "codemirror_mode": {
    "name": "ipython",
    "version": 3
   },
   "file_extension": ".py",
   "mimetype": "text/x-python",
   "name": "python",
   "nbconvert_exporter": "python",
   "pygments_lexer": "ipython3",
   "version": "3.9.7"
  }
 },
 "nbformat": 4,
 "nbformat_minor": 5
}
